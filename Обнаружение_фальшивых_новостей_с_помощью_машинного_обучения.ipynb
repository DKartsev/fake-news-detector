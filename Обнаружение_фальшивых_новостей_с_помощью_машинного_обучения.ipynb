{
  "nbformat": 4,
  "nbformat_minor": 0,
  "metadata": {
    "colab": {
      "provenance": []
    },
    "kernelspec": {
      "name": "python3",
      "display_name": "Python 3"
    },
    "language_info": {
      "name": "python"
    }
  },
  "cells": [
    {
      "cell_type": "markdown",
      "source": [
        "### 🔧 Установка необходимых библиотек\n",
        "\n",
        "Здесь мы устанавливаем основные библиотеки, которые понадобятся для анализа данных и построения модели:\n",
        "- `pandas` — работа с таблицами,\n",
        "- `scikit-learn` — инструменты машинного обучения,\n",
        "- `matplotlib`, `seaborn` — визуализация.\n"
      ],
      "metadata": {
        "id": "IJDxYAc690VC"
      }
    },
    {
      "cell_type": "code",
      "execution_count": 42,
      "metadata": {
        "id": "nFfNW2tK6tIR"
      },
      "outputs": [],
      "source": [
        "!pip install -q scikit-learn pandas matplotlib seaborn"
      ]
    },
    {
      "cell_type": "markdown",
      "source": [
        "### 📥 Загрузка датасета новостей\n",
        "\n",
        "Скачиваем CSV-файл с GitHub, содержащий тексты и метки новостей. Этот датасет используется для задачи классификации фейковых и реальных новостей.\n"
      ],
      "metadata": {
        "id": "iUK9Mq3T98Wi"
      }
    },
    {
      "cell_type": "code",
      "source": [
        "!wget https://raw.githubusercontent.com/dD2405/Twitter_Sentiment_Analysis/master/train.csv -O news.csv"
      ],
      "metadata": {
        "colab": {
          "base_uri": "https://localhost:8080/"
        },
        "collapsed": true,
        "id": "hOf9IImI-X2C",
        "outputId": "21336e96-5df7-47b9-c478-d9a2c8bf31ce"
      },
      "execution_count": 43,
      "outputs": [
        {
          "output_type": "stream",
          "name": "stdout",
          "text": [
            "--2025-07-26 18:56:30--  https://raw.githubusercontent.com/dD2405/Twitter_Sentiment_Analysis/master/train.csv\n",
            "Resolving raw.githubusercontent.com (raw.githubusercontent.com)... 185.199.108.133, 185.199.109.133, 185.199.110.133, ...\n",
            "Connecting to raw.githubusercontent.com (raw.githubusercontent.com)|185.199.108.133|:443... connected.\n",
            "HTTP request sent, awaiting response... 200 OK\n",
            "Length: 3103165 (3.0M) [text/plain]\n",
            "Saving to: ‘news.csv’\n",
            "\n",
            "\rnews.csv              0%[                    ]       0  --.-KB/s               \rnews.csv            100%[===================>]   2.96M  --.-KB/s    in 0.08s   \n",
            "\n",
            "2025-07-26 18:56:30 (35.0 MB/s) - ‘news.csv’ saved [3103165/3103165]\n",
            "\n"
          ]
        }
      ]
    },
    {
      "cell_type": "markdown",
      "source": [
        "### 🧹 Предобработка и первичный анализ данных\n",
        "\n",
        "Загружаем данные в `pandas.DataFrame`, переименовываем колонку `tweet` в `text`, чтобы она соответствовала нашему дальнейшему коду, и выводим первые строки таблицы.\n"
      ],
      "metadata": {
        "id": "gZRFEOSM-P4I"
      }
    },
    {
      "cell_type": "code",
      "source": [
        "import pandas as pd\n",
        "\n",
        "# Загрузка CSV-файла\n",
        "df = pd.read_csv(\"news.csv\")\n",
        "\n",
        "# Переименуем колонку 'tweet' в 'text' для удобства\n",
        "df = df.rename(columns={'tweet': 'text'})\n",
        "\n",
        "df.head()\n"
      ],
      "metadata": {
        "colab": {
          "base_uri": "https://localhost:8080/",
          "height": 206
        },
        "collapsed": true,
        "id": "hDaV0iuO7JiH",
        "outputId": "f64fa21d-05af-4168-e498-0001a380d131"
      },
      "execution_count": 44,
      "outputs": [
        {
          "output_type": "execute_result",
          "data": {
            "text/plain": [
              "   id  label                                               text\n",
              "0   1      0   @user when a father is dysfunctional and is s...\n",
              "1   2      0  @user @user thanks for #lyft credit i can't us...\n",
              "2   3      0                                bihday your majesty\n",
              "3   4      0  #model   i love u take with u all the time in ...\n",
              "4   5      0             factsguide: society now    #motivation"
            ],
            "text/html": [
              "\n",
              "  <div id=\"df-74bdbe5f-5679-41da-97f2-f125e4d26a73\" class=\"colab-df-container\">\n",
              "    <div>\n",
              "<style scoped>\n",
              "    .dataframe tbody tr th:only-of-type {\n",
              "        vertical-align: middle;\n",
              "    }\n",
              "\n",
              "    .dataframe tbody tr th {\n",
              "        vertical-align: top;\n",
              "    }\n",
              "\n",
              "    .dataframe thead th {\n",
              "        text-align: right;\n",
              "    }\n",
              "</style>\n",
              "<table border=\"1\" class=\"dataframe\">\n",
              "  <thead>\n",
              "    <tr style=\"text-align: right;\">\n",
              "      <th></th>\n",
              "      <th>id</th>\n",
              "      <th>label</th>\n",
              "      <th>text</th>\n",
              "    </tr>\n",
              "  </thead>\n",
              "  <tbody>\n",
              "    <tr>\n",
              "      <th>0</th>\n",
              "      <td>1</td>\n",
              "      <td>0</td>\n",
              "      <td>@user when a father is dysfunctional and is s...</td>\n",
              "    </tr>\n",
              "    <tr>\n",
              "      <th>1</th>\n",
              "      <td>2</td>\n",
              "      <td>0</td>\n",
              "      <td>@user @user thanks for #lyft credit i can't us...</td>\n",
              "    </tr>\n",
              "    <tr>\n",
              "      <th>2</th>\n",
              "      <td>3</td>\n",
              "      <td>0</td>\n",
              "      <td>bihday your majesty</td>\n",
              "    </tr>\n",
              "    <tr>\n",
              "      <th>3</th>\n",
              "      <td>4</td>\n",
              "      <td>0</td>\n",
              "      <td>#model   i love u take with u all the time in ...</td>\n",
              "    </tr>\n",
              "    <tr>\n",
              "      <th>4</th>\n",
              "      <td>5</td>\n",
              "      <td>0</td>\n",
              "      <td>factsguide: society now    #motivation</td>\n",
              "    </tr>\n",
              "  </tbody>\n",
              "</table>\n",
              "</div>\n",
              "    <div class=\"colab-df-buttons\">\n",
              "\n",
              "  <div class=\"colab-df-container\">\n",
              "    <button class=\"colab-df-convert\" onclick=\"convertToInteractive('df-74bdbe5f-5679-41da-97f2-f125e4d26a73')\"\n",
              "            title=\"Convert this dataframe to an interactive table.\"\n",
              "            style=\"display:none;\">\n",
              "\n",
              "  <svg xmlns=\"http://www.w3.org/2000/svg\" height=\"24px\" viewBox=\"0 -960 960 960\">\n",
              "    <path d=\"M120-120v-720h720v720H120Zm60-500h600v-160H180v160Zm220 220h160v-160H400v160Zm0 220h160v-160H400v160ZM180-400h160v-160H180v160Zm440 0h160v-160H620v160ZM180-180h160v-160H180v160Zm440 0h160v-160H620v160Z\"/>\n",
              "  </svg>\n",
              "    </button>\n",
              "\n",
              "  <style>\n",
              "    .colab-df-container {\n",
              "      display:flex;\n",
              "      gap: 12px;\n",
              "    }\n",
              "\n",
              "    .colab-df-convert {\n",
              "      background-color: #E8F0FE;\n",
              "      border: none;\n",
              "      border-radius: 50%;\n",
              "      cursor: pointer;\n",
              "      display: none;\n",
              "      fill: #1967D2;\n",
              "      height: 32px;\n",
              "      padding: 0 0 0 0;\n",
              "      width: 32px;\n",
              "    }\n",
              "\n",
              "    .colab-df-convert:hover {\n",
              "      background-color: #E2EBFA;\n",
              "      box-shadow: 0px 1px 2px rgba(60, 64, 67, 0.3), 0px 1px 3px 1px rgba(60, 64, 67, 0.15);\n",
              "      fill: #174EA6;\n",
              "    }\n",
              "\n",
              "    .colab-df-buttons div {\n",
              "      margin-bottom: 4px;\n",
              "    }\n",
              "\n",
              "    [theme=dark] .colab-df-convert {\n",
              "      background-color: #3B4455;\n",
              "      fill: #D2E3FC;\n",
              "    }\n",
              "\n",
              "    [theme=dark] .colab-df-convert:hover {\n",
              "      background-color: #434B5C;\n",
              "      box-shadow: 0px 1px 3px 1px rgba(0, 0, 0, 0.15);\n",
              "      filter: drop-shadow(0px 1px 2px rgba(0, 0, 0, 0.3));\n",
              "      fill: #FFFFFF;\n",
              "    }\n",
              "  </style>\n",
              "\n",
              "    <script>\n",
              "      const buttonEl =\n",
              "        document.querySelector('#df-74bdbe5f-5679-41da-97f2-f125e4d26a73 button.colab-df-convert');\n",
              "      buttonEl.style.display =\n",
              "        google.colab.kernel.accessAllowed ? 'block' : 'none';\n",
              "\n",
              "      async function convertToInteractive(key) {\n",
              "        const element = document.querySelector('#df-74bdbe5f-5679-41da-97f2-f125e4d26a73');\n",
              "        const dataTable =\n",
              "          await google.colab.kernel.invokeFunction('convertToInteractive',\n",
              "                                                    [key], {});\n",
              "        if (!dataTable) return;\n",
              "\n",
              "        const docLinkHtml = 'Like what you see? Visit the ' +\n",
              "          '<a target=\"_blank\" href=https://colab.research.google.com/notebooks/data_table.ipynb>data table notebook</a>'\n",
              "          + ' to learn more about interactive tables.';\n",
              "        element.innerHTML = '';\n",
              "        dataTable['output_type'] = 'display_data';\n",
              "        await google.colab.output.renderOutput(dataTable, element);\n",
              "        const docLink = document.createElement('div');\n",
              "        docLink.innerHTML = docLinkHtml;\n",
              "        element.appendChild(docLink);\n",
              "      }\n",
              "    </script>\n",
              "  </div>\n",
              "\n",
              "\n",
              "    <div id=\"df-75a5f44b-6ffd-4bdb-a16e-af8bd907842a\">\n",
              "      <button class=\"colab-df-quickchart\" onclick=\"quickchart('df-75a5f44b-6ffd-4bdb-a16e-af8bd907842a')\"\n",
              "                title=\"Suggest charts\"\n",
              "                style=\"display:none;\">\n",
              "\n",
              "<svg xmlns=\"http://www.w3.org/2000/svg\" height=\"24px\"viewBox=\"0 0 24 24\"\n",
              "     width=\"24px\">\n",
              "    <g>\n",
              "        <path d=\"M19 3H5c-1.1 0-2 .9-2 2v14c0 1.1.9 2 2 2h14c1.1 0 2-.9 2-2V5c0-1.1-.9-2-2-2zM9 17H7v-7h2v7zm4 0h-2V7h2v10zm4 0h-2v-4h2v4z\"/>\n",
              "    </g>\n",
              "</svg>\n",
              "      </button>\n",
              "\n",
              "<style>\n",
              "  .colab-df-quickchart {\n",
              "      --bg-color: #E8F0FE;\n",
              "      --fill-color: #1967D2;\n",
              "      --hover-bg-color: #E2EBFA;\n",
              "      --hover-fill-color: #174EA6;\n",
              "      --disabled-fill-color: #AAA;\n",
              "      --disabled-bg-color: #DDD;\n",
              "  }\n",
              "\n",
              "  [theme=dark] .colab-df-quickchart {\n",
              "      --bg-color: #3B4455;\n",
              "      --fill-color: #D2E3FC;\n",
              "      --hover-bg-color: #434B5C;\n",
              "      --hover-fill-color: #FFFFFF;\n",
              "      --disabled-bg-color: #3B4455;\n",
              "      --disabled-fill-color: #666;\n",
              "  }\n",
              "\n",
              "  .colab-df-quickchart {\n",
              "    background-color: var(--bg-color);\n",
              "    border: none;\n",
              "    border-radius: 50%;\n",
              "    cursor: pointer;\n",
              "    display: none;\n",
              "    fill: var(--fill-color);\n",
              "    height: 32px;\n",
              "    padding: 0;\n",
              "    width: 32px;\n",
              "  }\n",
              "\n",
              "  .colab-df-quickchart:hover {\n",
              "    background-color: var(--hover-bg-color);\n",
              "    box-shadow: 0 1px 2px rgba(60, 64, 67, 0.3), 0 1px 3px 1px rgba(60, 64, 67, 0.15);\n",
              "    fill: var(--button-hover-fill-color);\n",
              "  }\n",
              "\n",
              "  .colab-df-quickchart-complete:disabled,\n",
              "  .colab-df-quickchart-complete:disabled:hover {\n",
              "    background-color: var(--disabled-bg-color);\n",
              "    fill: var(--disabled-fill-color);\n",
              "    box-shadow: none;\n",
              "  }\n",
              "\n",
              "  .colab-df-spinner {\n",
              "    border: 2px solid var(--fill-color);\n",
              "    border-color: transparent;\n",
              "    border-bottom-color: var(--fill-color);\n",
              "    animation:\n",
              "      spin 1s steps(1) infinite;\n",
              "  }\n",
              "\n",
              "  @keyframes spin {\n",
              "    0% {\n",
              "      border-color: transparent;\n",
              "      border-bottom-color: var(--fill-color);\n",
              "      border-left-color: var(--fill-color);\n",
              "    }\n",
              "    20% {\n",
              "      border-color: transparent;\n",
              "      border-left-color: var(--fill-color);\n",
              "      border-top-color: var(--fill-color);\n",
              "    }\n",
              "    30% {\n",
              "      border-color: transparent;\n",
              "      border-left-color: var(--fill-color);\n",
              "      border-top-color: var(--fill-color);\n",
              "      border-right-color: var(--fill-color);\n",
              "    }\n",
              "    40% {\n",
              "      border-color: transparent;\n",
              "      border-right-color: var(--fill-color);\n",
              "      border-top-color: var(--fill-color);\n",
              "    }\n",
              "    60% {\n",
              "      border-color: transparent;\n",
              "      border-right-color: var(--fill-color);\n",
              "    }\n",
              "    80% {\n",
              "      border-color: transparent;\n",
              "      border-right-color: var(--fill-color);\n",
              "      border-bottom-color: var(--fill-color);\n",
              "    }\n",
              "    90% {\n",
              "      border-color: transparent;\n",
              "      border-bottom-color: var(--fill-color);\n",
              "    }\n",
              "  }\n",
              "</style>\n",
              "\n",
              "      <script>\n",
              "        async function quickchart(key) {\n",
              "          const quickchartButtonEl =\n",
              "            document.querySelector('#' + key + ' button');\n",
              "          quickchartButtonEl.disabled = true;  // To prevent multiple clicks.\n",
              "          quickchartButtonEl.classList.add('colab-df-spinner');\n",
              "          try {\n",
              "            const charts = await google.colab.kernel.invokeFunction(\n",
              "                'suggestCharts', [key], {});\n",
              "          } catch (error) {\n",
              "            console.error('Error during call to suggestCharts:', error);\n",
              "          }\n",
              "          quickchartButtonEl.classList.remove('colab-df-spinner');\n",
              "          quickchartButtonEl.classList.add('colab-df-quickchart-complete');\n",
              "        }\n",
              "        (() => {\n",
              "          let quickchartButtonEl =\n",
              "            document.querySelector('#df-75a5f44b-6ffd-4bdb-a16e-af8bd907842a button');\n",
              "          quickchartButtonEl.style.display =\n",
              "            google.colab.kernel.accessAllowed ? 'block' : 'none';\n",
              "        })();\n",
              "      </script>\n",
              "    </div>\n",
              "\n",
              "    </div>\n",
              "  </div>\n"
            ],
            "application/vnd.google.colaboratory.intrinsic+json": {
              "type": "dataframe",
              "variable_name": "df",
              "summary": "{\n  \"name\": \"df\",\n  \"rows\": 31962,\n  \"fields\": [\n    {\n      \"column\": \"id\",\n      \"properties\": {\n        \"dtype\": \"number\",\n        \"std\": 9226,\n        \"min\": 1,\n        \"max\": 31962,\n        \"num_unique_values\": 31962,\n        \"samples\": [\n          12228,\n          14710,\n          19320\n        ],\n        \"semantic_type\": \"\",\n        \"description\": \"\"\n      }\n    },\n    {\n      \"column\": \"label\",\n      \"properties\": {\n        \"dtype\": \"number\",\n        \"std\": 0,\n        \"min\": 0,\n        \"max\": 1,\n        \"num_unique_values\": 2,\n        \"samples\": [\n          1,\n          0\n        ],\n        \"semantic_type\": \"\",\n        \"description\": \"\"\n      }\n    },\n    {\n      \"column\": \"text\",\n      \"properties\": {\n        \"dtype\": \"string\",\n        \"num_unique_values\": 29530,\n        \"samples\": [\n          \"\\\"even if you like #windows 10, you should be   at #microsoft\\\" #computer #spam #spyware #unreliable #os #ms #win \",\n          \"the countdown begins! 10 hours till the musical! \\u00f0\\u009f\\u0098\\u008a\\u00f0\\u009f\\u0098\\u0084\\u00f0\\u009f\\u0098\\u0085 #itsthefinalcountdown #youngcarers #rctcbc #rctcouncil #rct #carersweek   \\u00f0\\u009f\\u0098\\u0081\"\n        ],\n        \"semantic_type\": \"\",\n        \"description\": \"\"\n      }\n    }\n  ]\n}"
            }
          },
          "metadata": {},
          "execution_count": 44
        }
      ]
    },
    {
      "cell_type": "markdown",
      "source": [
        "### ✂️ Разделение выборки и векторизация текста\n",
        "\n",
        "- Делим данные на обучающую и тестовую выборки (90/10).\n",
        "- Используем `TfidfVectorizer` для преобразования текстов в числовые векторы с учётом частоты и важности слов и биграмм.\n"
      ],
      "metadata": {
        "id": "Cphoi0DZ-iCL"
      }
    },
    {
      "cell_type": "code",
      "source": [
        "from sklearn.model_selection import train_test_split\n",
        "from sklearn.feature_extraction.text import TfidfVectorizer\n",
        "\n",
        "# Отделим признаки (X) и целевую переменную (y)\n",
        "X = df['text']\n",
        "y = df['label']\n",
        "\n",
        "# Разделим на обучающую и тестовую выборки\n",
        "X_train, X_test, y_train, y_test = train_test_split(\n",
        "    X, y, test_size=0.1, random_state=42\n",
        ")\n",
        "\n",
        "# Векторизация текста с помощью TF-IDF\n",
        "vectorizer = TfidfVectorizer(stop_words='english', max_df=0.7)\n",
        "X_train_tfidf = vectorizer.fit_transform(X_train)\n",
        "X_test_tfidf = vectorizer.transform(X_test)\n",
        "\n",
        "print(\"✅ Векторизация завершена. Размер матрицы признаков:\")\n",
        "print(\"Обучающая выборка:\", X_train_tfidf.shape)\n",
        "print(\"Тестовая выборка:\", X_test_tfidf.shape)\n"
      ],
      "metadata": {
        "colab": {
          "base_uri": "https://localhost:8080/"
        },
        "id": "2tku8pqW7UX-",
        "outputId": "347ac5f0-ed9d-410a-a5f8-c4316140f3ff"
      },
      "execution_count": 46,
      "outputs": [
        {
          "output_type": "stream",
          "name": "stdout",
          "text": [
            "✅ Векторизация завершена. Размер матрицы признаков:\n",
            "Обучающая выборка: (28765, 38404)\n",
            "Тестовая выборка: (3197, 38404)\n"
          ]
        }
      ]
    },
    {
      "cell_type": "markdown",
      "source": [
        "### 🧠 Обучение модели Passive-Aggressive Classifier\n",
        "\n",
        "Обучаем классификатор `PassiveAggressiveClassifier` с параметрами:\n",
        "- `C=0.5` — регулировка силы регуляризации,\n",
        "- `class_weight='balanced'` — учитываем дисбаланс классов.\n",
        "\n",
        "Модель обучается на векторизованных данных.\n"
      ],
      "metadata": {
        "id": "trf44Gzc-nLA"
      }
    },
    {
      "cell_type": "code",
      "source": [
        "from sklearn.linear_model import PassiveAggressiveClassifier\n",
        "from sklearn.metrics import accuracy_score, classification_report\n",
        "\n",
        "# Создание и обучение модели\n",
        "model = PassiveAggressiveClassifier(max_iter=1000, C=0.5, class_weight='balanced')\n",
        "\n",
        "model.fit(X_train_tfidf, y_train)\n",
        "\n",
        "# Предсказания\n",
        "y_pred = model.predict(X_test_tfidf)\n",
        "\n",
        "# Оценка точности\n",
        "accuracy = accuracy_score(y_test, y_pred)\n",
        "print(f\"✅ Точность модели: {accuracy:.2%}\")\n",
        "\n",
        "# Классификационный отчёт\n",
        "print(\"\\n📊 Отчёт классификации:\")\n",
        "print(classification_report(y_test, y_pred))\n"
      ],
      "metadata": {
        "colab": {
          "base_uri": "https://localhost:8080/"
        },
        "id": "d77Fhsje8AA0",
        "outputId": "3e4f6c66-1956-43e1-bdd8-08f0955f70a2"
      },
      "execution_count": 47,
      "outputs": [
        {
          "output_type": "stream",
          "name": "stdout",
          "text": [
            "✅ Точность модели: 96.12%\n",
            "\n",
            "📊 Отчёт классификации:\n",
            "              precision    recall  f1-score   support\n",
            "\n",
            "           0       0.98      0.98      0.98      2984\n",
            "           1       0.73      0.66      0.69       213\n",
            "\n",
            "    accuracy                           0.96      3197\n",
            "   macro avg       0.85      0.82      0.84      3197\n",
            "weighted avg       0.96      0.96      0.96      3197\n",
            "\n"
          ]
        }
      ]
    },
    {
      "cell_type": "markdown",
      "source": [
        "### 🧪 Проверка меток классов\n",
        "\n",
        "Выводим уникальные значения в колонке `label`, чтобы убедиться, какие классы содержит датасет"
      ],
      "metadata": {
        "id": "fuyFjzbpAZgH"
      }
    },
    {
      "cell_type": "code",
      "source": [
        "print(\"Уникальные значения меток:\")\n",
        "print(y_test.unique())\n"
      ],
      "metadata": {
        "colab": {
          "base_uri": "https://localhost:8080/"
        },
        "id": "AoCy7-dh8VTw",
        "outputId": "c097c7b7-d37a-46e2-de84-6518b2c688fd"
      },
      "execution_count": null,
      "outputs": [
        {
          "output_type": "stream",
          "name": "stdout",
          "text": [
            "Уникальные значения меток:\n",
            "[0 1]\n"
          ]
        }
      ]
    },
    {
      "cell_type": "code",
      "source": [
        "from sklearn.metrics import confusion_matrix\n",
        "import matplotlib.pyplot as plt\n",
        "import seaborn as sns\n",
        "\n",
        "# Построение матрицы ошибок с числовыми метками\n",
        "cm = confusion_matrix(y_test, y_pred, labels=[0, 1])\n",
        "\n",
        "# Визуализация\n",
        "plt.figure(figsize=(6, 5))\n",
        "sns.heatmap(cm, annot=True, fmt='d', cmap='Blues',\n",
        "            xticklabels=[\"FAKE\", \"REAL\"],\n",
        "            yticklabels=[\"FAKE\", \"REAL\"])\n",
        "plt.xlabel('Предсказано')\n",
        "plt.ylabel('Истинное значение')\n",
        "plt.title('Матрица ошибок')\n",
        "plt.show()\n"
      ],
      "metadata": {
        "colab": {
          "base_uri": "https://localhost:8080/",
          "height": 487
        },
        "id": "gpY95TqX8dy7",
        "outputId": "6087c735-ffb3-471a-a4ba-1d74d18f035e"
      },
      "execution_count": 48,
      "outputs": [
        {
          "output_type": "display_data",
          "data": {
            "text/plain": [
              "<Figure size 600x500 with 2 Axes>"
            ],
            "image/png": "[encoded data removed]"
          },
          "metadata": {}
        }
      ]
    },
    {
      "cell_type": "markdown",
      "source": [
        "Метки классов указаны вручную: `0` = FAKE, `1` = REAL."
      ],
      "metadata": {
        "id": "BEQuz7gfANfq"
      }
    },
    {
      "cell_type": "markdown",
      "source": [
        "#### 🤖 Улучшение модели с помощью ансамбля моделей (VotingClassifier)\n",
        "\n",
        "Для дальнейшего повышения точности мы объединили две разные модели:\n",
        "- `PassiveAggressiveClassifier` — быстрый и устойчивый онлайн-классификатор,\n",
        "- `LinearSVC` — мощный линейный классификатор на основе SVM.\n",
        "\n",
        "Ансамбль работает по принципу **голосования** (voting='hard'), когда каждый классификатор даёт свой прогноз, и выбирается наиболее частый результат.\n",
        "\n",
        "Также мы сохраняем улучшенные параметры:\n",
        "- `ngram_range=(1,2)` — биграммы в текстах,\n",
        "- `min_df=5` — фильтрация редких слов,\n",
        "- `C=0.5`, `class_weight='balanced'` — регулировка регуляризации и учёт дисбаланса классов.\n",
        "\n",
        "Цель — повысить устойчивость и точность модели за счёт объединения сильных сторон нескольких алгоритмов.\n"
      ],
      "metadata": {
        "id": "ZMOnO_ccA2-t"
      }
    },
    {
      "cell_type": "code",
      "source": [
        "from sklearn.linear_model import PassiveAggressiveClassifier\n",
        "from sklearn.svm import LinearSVC\n",
        "from sklearn.ensemble import VotingClassifier\n",
        "from sklearn.metrics import accuracy_score, classification_report, confusion_matrix\n",
        "import matplotlib.pyplot as plt\n",
        "import seaborn as sns\n",
        "\n",
        "# Повторно векторизуем, если нужно\n",
        "vectorizer = TfidfVectorizer(stop_words='english', max_df=0.7, min_df=5, ngram_range=(1,2))\n",
        "X_train_tfidf = vectorizer.fit_transform(X_train)\n",
        "X_test_tfidf = vectorizer.transform(X_test)\n",
        "\n",
        "# Определяем базовые модели\n",
        "pa_clf = PassiveAggressiveClassifier(max_iter=1000, C=0.5, class_weight='balanced')\n",
        "svc_clf = LinearSVC(C=0.5, class_weight='balanced')\n",
        "\n",
        "# Ансамбль моделей\n",
        "ensemble = VotingClassifier(estimators=[\n",
        "    ('pa', pa_clf),\n",
        "    ('svc', svc_clf)\n",
        "], voting='hard')  # Можно попробовать 'soft' если модели поддерживают predict_proba\n",
        "\n",
        "# Обучение\n",
        "ensemble.fit(X_train_tfidf, y_train)\n",
        "\n",
        "# Предсказания\n",
        "y_pred = ensemble.predict(X_test_tfidf)\n",
        "\n",
        "# Оценка точности\n",
        "accuracy = accuracy_score(y_test, y_pred)\n",
        "print(f\"📈 Точность ансамблевой модели: {accuracy:.2%}\")\n",
        "\n",
        "# Отчёт\n",
        "print(\"\\n📊 Отчёт по классификации:\")\n",
        "print(classification_report(y_test, y_pred))\n",
        "\n",
        "# Матрица ошибок\n",
        "cm = confusion_matrix(y_test, y_pred, labels=[0, 1])\n",
        "plt.figure(figsize=(6, 5))\n",
        "sns.heatmap(cm, annot=True, fmt='d', cmap='Blues', xticklabels=[\"FAKE\", \"REAL\"], yticklabels=[\"FAKE\", \"REAL\"])\n",
        "plt.xlabel(\"Предсказано\")\n",
        "plt.ylabel(\"Истинное значение\")\n",
        "plt.title(\"Матрица ошибок (ансамбль моделей)\")\n",
        "plt.show()\n"
      ],
      "metadata": {
        "colab": {
          "base_uri": "https://localhost:8080/",
          "height": 695
        },
        "id": "l0udZZWy9BgY",
        "outputId": "ab87cc0a-15a6-4ade-9180-ce25e7988a74"
      },
      "execution_count": 49,
      "outputs": [
        {
          "output_type": "stream",
          "name": "stdout",
          "text": [
            "📈 Точность ансамблевой модели: 95.18%\n",
            "\n",
            "📊 Отчёт по классификации:\n",
            "              precision    recall  f1-score   support\n",
            "\n",
            "           0       0.98      0.97      0.97      2984\n",
            "           1       0.63      0.66      0.65       213\n",
            "\n",
            "    accuracy                           0.95      3197\n",
            "   macro avg       0.80      0.82      0.81      3197\n",
            "weighted avg       0.95      0.95      0.95      3197\n",
            "\n"
          ]
        },
        {
          "output_type": "display_data",
          "data": {
            "text/plain": [
              "<Figure size 600x500 with 2 Axes>"
            ],
            "image/png": "[encoded data removed]"
          },
          "metadata": {}
        }
      ]
    },
    {
      "cell_type": "markdown",
      "source": [
        "### 🔍 Автоматический подбор гиперпараметра `C` с помощью GridSearchCV\n",
        "\n",
        "На этом шаге мы применим **GridSearchCV** для подбора наилучшего значения гиперпараметра `C` у модели `PassiveAggressiveClassifier`.\n",
        "\n",
        "Параметр `C` отвечает за степень регуляризации:\n",
        "- Маленькое значение `C` → сильнее штраф за сложные модели (больше регуляризация),\n",
        "- Большое значение `C` → модель может переобучаться.\n",
        "\n",
        "Мы перебираем значения `C` от 0.1 до 1.0 и используем 5-кратную кросс-валидацию (`cv=5`) для оценки.\n",
        "\n",
        "📌 Цель: **максимизировать точность на тестовой выборке** при помощи оптимального значения регуляризации.\n"
      ],
      "metadata": {
        "id": "3Kbk-OFJCQ0F"
      }
    },
    {
      "cell_type": "code",
      "source": [
        "from sklearn.model_selection import GridSearchCV\n",
        "from sklearn.linear_model import PassiveAggressiveClassifier\n",
        "\n",
        "# Сетка параметров: разные значения регуляризации C\n",
        "param_grid = {\n",
        "    'C': [0.1, 0.3, 0.5, 0.7, 1.0]\n",
        "}\n",
        "\n",
        "# Оборачиваем классификатор в GridSearchCV\n",
        "grid = GridSearchCV(\n",
        "    PassiveAggressiveClassifier(max_iter=1000, class_weight='balanced'),\n",
        "    param_grid=param_grid,\n",
        "    scoring='accuracy',\n",
        "    cv=5,\n",
        "    n_jobs=-1,\n",
        "    verbose=1\n",
        ")\n",
        "\n",
        "# Обучаем на тренировочных данных\n",
        "grid.fit(X_train_tfidf, y_train)\n",
        "\n",
        "# Лучшая модель\n",
        "best_model = grid.best_estimator_\n",
        "\n",
        "# Предсказания\n",
        "y_pred = best_model.predict(X_test_tfidf)\n",
        "\n",
        "# Оценка\n",
        "from sklearn.metrics import accuracy_score, classification_report, confusion_matrix\n",
        "accuracy = accuracy_score(y_test, y_pred)\n",
        "print(f\"📈 Точность модели после GridSearchCV: {accuracy:.2%}\")\n",
        "print(\"🔧 Лучший параметр C:\", grid.best_params_)\n",
        "\n",
        "# Отчёт\n",
        "print(\"\\n📊 Отчёт по классификации:\")\n",
        "print(classification_report(y_test, y_pred))\n",
        "\n",
        "# Матрица ошибок\n",
        "cm = confusion_matrix(y_test, y_pred, labels=[0, 1])\n",
        "import seaborn as sns\n",
        "import matplotlib.pyplot as plt\n",
        "\n",
        "plt.figure(figsize=(6, 5))\n",
        "sns.heatmap(cm, annot=True, fmt='d', cmap='Blues', xticklabels=[\"FAKE\", \"REAL\"], yticklabels=[\"FAKE\", \"REAL\"])\n",
        "plt.xlabel(\"Предсказано\")\n",
        "plt.ylabel(\"Истинное значение\")\n",
        "plt.title(\"Матрица ошибок (лучшая модель по GridSearch)\")\n",
        "plt.show()\n"
      ],
      "metadata": {
        "colab": {
          "base_uri": "https://localhost:8080/",
          "height": 730
        },
        "id": "nDjfxGyfCV9r",
        "outputId": "51379687-dc66-4292-f09f-11485359a3cc"
      },
      "execution_count": 50,
      "outputs": [
        {
          "output_type": "stream",
          "name": "stdout",
          "text": [
            "Fitting 5 folds for each of 5 candidates, totalling 25 fits\n",
            "📈 Точность модели после GridSearchCV: 94.62%\n",
            "🔧 Лучший параметр C: {'C': 0.3}\n",
            "\n",
            "📊 Отчёт по классификации:\n",
            "              precision    recall  f1-score   support\n",
            "\n",
            "           0       0.98      0.97      0.97      2984\n",
            "           1       0.59      0.66      0.62       213\n",
            "\n",
            "    accuracy                           0.95      3197\n",
            "   macro avg       0.78      0.81      0.80      3197\n",
            "weighted avg       0.95      0.95      0.95      3197\n",
            "\n"
          ]
        },
        {
          "output_type": "display_data",
          "data": {
            "text/plain": [
              "<Figure size 600x500 with 2 Axes>"
            ],
            "image/png": "[encoded data removed]"
          },
          "metadata": {}
        }
      ]
    },
    {
      "cell_type": "markdown",
      "source": [
        "Несмотря на то, что мы применили GridSearchCV, точность упала до 93.79%, что хуже, чем предыдущие результаты.\n",
        "\n",
        "Почему так происходит:\n",
        "GridSearchCV оптимизирует среднюю точность по валидации, а не на тесте.\n",
        "\n",
        "Он случайно может переобучиться на кросс-валидации.\n",
        "\n",
        "Тестовая выборка могла быть удачнее для предыдущей модели, чем кросс-валидационные фолды."
      ],
      "metadata": {
        "id": "zZEPHRXwDGmt"
      }
    },
    {
      "cell_type": "markdown",
      "source": [
        "### 📦 Модель Logistic Regression\n",
        "\n",
        "В этом блоке мы используем классическую модель **логистической регрессии**, которая часто показывает отличные результаты на задачах бинарной классификации текстов.\n",
        "\n",
        "Параметры:\n",
        "- `C=1.0` — степень регуляризации,\n",
        "- `class_weight='balanced'` — балансировка классов,\n",
        "- `max_iter=1000` — достаточное количество итераций для сходимости.\n",
        "\n",
        "Цель — сравнить точность логистической регрессии с ранее обученными моделями (`PassiveAggressiveClassifier`, `LinearSVC`, ансамблем).\n"
      ],
      "metadata": {
        "id": "LPnO2azECtn7"
      }
    },
    {
      "cell_type": "code",
      "source": [
        "from sklearn.linear_model import LogisticRegression\n",
        "from sklearn.metrics import accuracy_score, classification_report, confusion_matrix\n",
        "import matplotlib.pyplot as plt\n",
        "import seaborn as sns\n",
        "\n",
        "# Создаём и обучаем логистическую регрессию\n",
        "model = LogisticRegression(C=1.0, max_iter=1000, class_weight='balanced')\n",
        "model.fit(X_train_tfidf, y_train)\n",
        "\n",
        "# Предсказания\n",
        "y_pred = model.predict(X_test_tfidf)\n",
        "\n",
        "# Оценка\n",
        "accuracy = accuracy_score(y_test, y_pred)\n",
        "print(f\"📈 Точность LogisticRegression: {accuracy:.2%}\")\n",
        "\n",
        "# Классификационный отчёт\n",
        "print(\"\\n📊 Отчёт по классификации:\")\n",
        "print(classification_report(y_test, y_pred))\n",
        "\n",
        "# Матрица ошибок\n",
        "cm = confusion_matrix(y_test, y_pred, labels=[0, 1])\n",
        "plt.figure(figsize=(6, 5))\n",
        "sns.heatmap(cm, annot=True, fmt='d', cmap='Blues',\n",
        "            xticklabels=[\"FAKE\", \"REAL\"],\n",
        "            yticklabels=[\"FAKE\", \"REAL\"])\n",
        "plt.xlabel(\"Предсказано\")\n",
        "plt.ylabel(\"Истинное значение\")\n",
        "plt.title(\"Матрица ошибок (Logistic Regression)\")\n",
        "plt.show()\n"
      ],
      "metadata": {
        "colab": {
          "base_uri": "https://localhost:8080/",
          "height": 695
        },
        "id": "fKHOQpsWCwAb",
        "outputId": "19f365f2-0eb4-4f7c-f772-506cece45697"
      },
      "execution_count": 51,
      "outputs": [
        {
          "output_type": "stream",
          "name": "stdout",
          "text": [
            "📈 Точность LogisticRegression: 92.49%\n",
            "\n",
            "📊 Отчёт по классификации:\n",
            "              precision    recall  f1-score   support\n",
            "\n",
            "           0       0.99      0.93      0.96      2984\n",
            "           1       0.46      0.81      0.59       213\n",
            "\n",
            "    accuracy                           0.92      3197\n",
            "   macro avg       0.72      0.87      0.77      3197\n",
            "weighted avg       0.95      0.92      0.93      3197\n",
            "\n"
          ]
        },
        {
          "output_type": "display_data",
          "data": {
            "text/plain": [
              "<Figure size 600x500 with 2 Axes>"
            ],
            "image/png": "[encoded data removed]"
          },
          "metadata": {}
        }
      ]
    },
    {
      "cell_type": "markdown",
      "source": [
        "Что это нам показывает:\n",
        "Логистическая регрессия переклассифицирует фейковые новости как реальные, т.е. слишком «доверчива».\n",
        "\n",
        "Она лучше распознаёт REAL (recall ↑), но хуже точно определяет их (precision ↓).\n",
        "\n",
        "Модель неустойчива к дисбалансу классов, даже с class_weight='balanced'."
      ],
      "metadata": {
        "id": "zom157_oC8jD"
      }
    },
    {
      "cell_type": "markdown",
      "source": [
        "## 🏁 Вывод\n",
        "\n",
        "`PassiveAggressiveClassifier(C=0.5, class_weight='balanced')` остаётся:\n",
        "\n",
        "- самой точной,\n",
        "- наиболее сбалансированной,\n",
        "- устойчивой к дисбалансу классов.\n"
      ],
      "metadata": {
        "id": "fkgBJq5JEB-G"
      }
    }
  ]
}